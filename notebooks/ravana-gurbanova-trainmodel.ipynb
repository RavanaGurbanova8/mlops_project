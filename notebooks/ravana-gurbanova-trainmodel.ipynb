{
 "cells": [
  {
   "cell_type": "code",
   "execution_count": 66,
   "id": "41d582f9-4ee0-4d5f-b981-dbc84a2f7f65",
   "metadata": {
    "editable": true,
    "execution": {
     "iopub.execute_input": "2025-08-11T04:17:46.036107Z",
     "iopub.status.busy": "2025-08-11T04:17:46.035300Z",
     "iopub.status.idle": "2025-08-11T04:17:46.188615Z",
     "shell.execute_reply": "2025-08-11T04:17:46.187922Z",
     "shell.execute_reply.started": "2025-08-11T04:17:46.036080Z"
    },
    "slideshow": {
     "slide_type": ""
    },
    "tags": []
   },
   "outputs": [
    {
     "name": "stdout",
     "output_type": "stream",
     "text": [
      "✅ File downloaded successfully from s3://dataminds-warehouse/multisim_dataset.parquet to multisim_dataset.parquet\n"
     ]
    }
   ],
   "source": [
    "import boto3\n",
    "bucket_name = 'dataminds-warehouse'\n",
    "s3_file_key = 'multisim_dataset.parquet'            # e.g. 'folder/myfile.txt'\n",
    "local_file_path = 'multisim_dataset.parquet'        # Local destination\n",
    "\n",
    "# Create an S3 client (remove `bucket_name` here — not a valid argument for boto3.client)\n",
    "s3 = boto3.client(\n",
    "    's3',\n",
    "    region_name='us-east-1'\n",
    "    # aws_access_key_id='your_access_key',\n",
    "    # aws_secret_access_key='your_secret_key'\n",
    ")\n",
    "\n",
    "# Download the file\n",
    "try:\n",
    "    s3.download_file(bucket_name, s3_file_key, local_file_path)\n",
    "    print(f\"✅ File downloaded successfully from s3://{bucket_name}/{s3_file_key} to {local_file_path}\")\n",
    "except Exception as e:\n",
    "    print(\"❌ Error downloading file:\", e)"
   ]
  },
  {
   "cell_type": "markdown",
   "id": "c8d922f8-92b4-4c4e-9164-b9a32be03825",
   "metadata": {},
   "source": [
    "1. trf – tariff used by customer\n",
    "2. age – customer age in years\n",
    "3. gndr – gender can be M – male, F – female, U – unknown\n",
    "4. tenure – customer tenure in days\n",
    "5. age_dev – age of device\n",
    "6. dev_man – device manufacturer\n",
    "7. device_os_name – OS on the device\n",
    "8. dev_num – number of devices that the sim card was installed in\n",
    "9. is_dualsim – device’s capability to hold 2 sim cards simultaneously, 0 – No, 1 - Yes\n",
    "10. is_featurephone – if device is featurephone, 0 – No, 1 - Yes\n",
    "11. is_smartphone – if device is smartphone, 0 – No, 1 – Yes\n",
    "12. simcard_type – type of simcard (4G, 3G and etc)\n",
    "13. region – region of customer\n",
    "14. target – if subscriber is a multisimmer, 0 -No, 1 – Yes\n",
    "\n",
    "\n",
    "Your task is to do EDA, Feature Engineering, and then by using XGBoost train the model and fine-tune the hyperparameters. https://xgboost.readthedocs.io/en/stable/ \n",
    "\n",
    "\n",
    "You don't have to train data to all dataset, but on sample (if you don't have enough computation power). but explain your steps.\n",
    "upload jupyter notebook to dataminds-homeworks s3 bucket as yourname-yoursurname-trainmodel.ipynb \n",
    "\n",
    "\n",
    " (Important, - the dataset is not shuffled)  "
   ]
  },
  {
   "cell_type": "code",
   "execution_count": 67,
   "id": "a4b242ea-0dd5-4500-a566-625636b1711e",
   "metadata": {
    "execution": {
     "iopub.execute_input": "2025-08-11T04:17:46.714486Z",
     "iopub.status.busy": "2025-08-11T04:17:46.713861Z",
     "iopub.status.idle": "2025-08-11T04:17:46.719142Z",
     "shell.execute_reply": "2025-08-11T04:17:46.718509Z",
     "shell.execute_reply.started": "2025-08-11T04:17:46.714458Z"
    }
   },
   "outputs": [],
   "source": [
    "import numpy as np\n",
    "import pandas as pd\n",
    "from pandas import Series, DataFrame\n",
    "from xgboost import XGBClassifier\n",
    "from scipy import stats\n",
    "from sklearn.preprocessing import StandardScaler , LabelEncoder, MinMaxScaler\n",
    "from sklearn.model_selection import train_test_split, cross_val_score, GridSearchCV\n",
    "from sklearn.metrics import accuracy_score, confusion_matrix\n",
    "from sklearn import preprocessing\n",
    "from sklearn.svm import SVC\n",
    "from sklearn.linear_model import LinearRegression, LogisticRegression\n",
    "import matplotlib.pyplot as plt \n",
    "import seaborn as sns\n",
    "from category_encoders import CatBoostEncoder\n",
    "from sklearn.preprocessing import LabelEncoder, OneHotEncoder, OrdinalEncoder\n",
    "from sklearn.preprocessing import RobustScaler,  StandardScaler\n",
    "from sklearn.impute import SimpleImputer\n",
    "from sklearn.compose import ColumnTransformer\n",
    "from sklearn.pipeline import Pipeline\n",
    "from sklearn.ensemble import RandomForestClassifier\n",
    "from sklearn.metrics import mean_squared_error, r2_score, mean_absolute_error\n",
    "from sklearn.model_selection import KFold, cross_validate\n",
    "import warnings\n",
    "warnings.filterwarnings('ignore')"
   ]
  },
  {
   "cell_type": "code",
   "execution_count": 68,
   "id": "8eda8483-0ac7-4674-bf5a-186cf8694250",
   "metadata": {
    "execution": {
     "iopub.execute_input": "2025-08-11T04:17:47.025430Z",
     "iopub.status.busy": "2025-08-11T04:17:47.024773Z",
     "iopub.status.idle": "2025-08-11T04:17:48.648575Z",
     "shell.execute_reply": "2025-08-11T04:17:48.647700Z",
     "shell.execute_reply.started": "2025-08-11T04:17:47.025408Z"
    }
   },
   "outputs": [
    {
     "name": "stdout",
     "output_type": "stream",
     "text": [
      "Requirement already satisfied: category_encoders in /opt/conda/lib/python3.12/site-packages (2.8.1)\n",
      "Requirement already satisfied: numpy>=1.14.0 in /opt/conda/lib/python3.12/site-packages (from category_encoders) (1.26.4)\n",
      "Requirement already satisfied: pandas>=1.0.5 in /opt/conda/lib/python3.12/site-packages (from category_encoders) (2.2.3)\n",
      "Requirement already satisfied: patsy>=0.5.1 in /opt/conda/lib/python3.12/site-packages (from category_encoders) (1.0.1)\n",
      "Requirement already satisfied: scikit-learn>=1.6.0 in /opt/conda/lib/python3.12/site-packages (from category_encoders) (1.6.1)\n",
      "Requirement already satisfied: scipy>=1.0.0 in /opt/conda/lib/python3.12/site-packages (from category_encoders) (1.15.2)\n",
      "Requirement already satisfied: statsmodels>=0.9.0 in /opt/conda/lib/python3.12/site-packages (from category_encoders) (0.14.5)\n",
      "Requirement already satisfied: python-dateutil>=2.8.2 in /opt/conda/lib/python3.12/site-packages (from pandas>=1.0.5->category_encoders) (2.9.0.post0)\n",
      "Requirement already satisfied: pytz>=2020.1 in /opt/conda/lib/python3.12/site-packages (from pandas>=1.0.5->category_encoders) (2024.2)\n",
      "Requirement already satisfied: tzdata>=2022.7 in /opt/conda/lib/python3.12/site-packages (from pandas>=1.0.5->category_encoders) (2025.2)\n",
      "Requirement already satisfied: six>=1.5 in /opt/conda/lib/python3.12/site-packages (from python-dateutil>=2.8.2->pandas>=1.0.5->category_encoders) (1.17.0)\n",
      "Requirement already satisfied: joblib>=1.2.0 in /opt/conda/lib/python3.12/site-packages (from scikit-learn>=1.6.0->category_encoders) (1.5.1)\n",
      "Requirement already satisfied: threadpoolctl>=3.1.0 in /opt/conda/lib/python3.12/site-packages (from scikit-learn>=1.6.0->category_encoders) (3.6.0)\n",
      "Requirement already satisfied: packaging>=21.3 in /opt/conda/lib/python3.12/site-packages (from statsmodels>=0.9.0->category_encoders) (24.2)\n"
     ]
    }
   ],
   "source": [
    "!pip install category_encoders"
   ]
  },
  {
   "cell_type": "code",
   "execution_count": 69,
   "id": "4be271a2-87f2-4299-9b11-6d1ccb6ade05",
   "metadata": {
    "execution": {
     "iopub.execute_input": "2025-08-11T04:17:48.650233Z",
     "iopub.status.busy": "2025-08-11T04:17:48.649996Z",
     "iopub.status.idle": "2025-08-11T04:17:48.682469Z",
     "shell.execute_reply": "2025-08-11T04:17:48.681858Z",
     "shell.execute_reply.started": "2025-08-11T04:17:48.650210Z"
    }
   },
   "outputs": [
    {
     "data": {
      "text/plain": [
       "(10000, 132)"
      ]
     },
     "execution_count": 69,
     "metadata": {},
     "output_type": "execute_result"
    }
   ],
   "source": [
    "df = pd.read_parquet('multisim_dataset.parquet')\n",
    "df.shape"
   ]
  },
  {
   "cell_type": "code",
   "execution_count": 70,
   "id": "e348c87d-e218-4d2d-9ae1-7c8f84e51e65",
   "metadata": {
    "execution": {
     "iopub.execute_input": "2025-08-11T04:17:48.683785Z",
     "iopub.status.busy": "2025-08-11T04:17:48.683309Z",
     "iopub.status.idle": "2025-08-11T04:17:48.703857Z",
     "shell.execute_reply": "2025-08-11T04:17:48.703138Z",
     "shell.execute_reply.started": "2025-08-11T04:17:48.683762Z"
    }
   },
   "outputs": [
    {
     "data": {
      "text/html": [
       "<div>\n",
       "<style scoped>\n",
       "    .dataframe tbody tr th:only-of-type {\n",
       "        vertical-align: middle;\n",
       "    }\n",
       "\n",
       "    .dataframe tbody tr th {\n",
       "        vertical-align: top;\n",
       "    }\n",
       "\n",
       "    .dataframe thead th {\n",
       "        text-align: right;\n",
       "    }\n",
       "</style>\n",
       "<table border=\"1\" class=\"dataframe\">\n",
       "  <thead>\n",
       "    <tr style=\"text-align: right;\">\n",
       "      <th></th>\n",
       "      <th>telephone_number</th>\n",
       "      <th>trf</th>\n",
       "      <th>age</th>\n",
       "      <th>gndr</th>\n",
       "      <th>tenure</th>\n",
       "      <th>age_dev</th>\n",
       "      <th>dev_man</th>\n",
       "      <th>device_os_name</th>\n",
       "      <th>dev_num</th>\n",
       "      <th>is_dualsim</th>\n",
       "      <th>...</th>\n",
       "      <th>val13_6</th>\n",
       "      <th>val14_6</th>\n",
       "      <th>val15_6</th>\n",
       "      <th>val16_6</th>\n",
       "      <th>val17_6</th>\n",
       "      <th>val18_6</th>\n",
       "      <th>val19_6</th>\n",
       "      <th>val20_6</th>\n",
       "      <th>val21_6</th>\n",
       "      <th>target</th>\n",
       "    </tr>\n",
       "  </thead>\n",
       "  <tbody>\n",
       "    <tr>\n",
       "      <th>9626</th>\n",
       "      <td>iWBn_13aJO</td>\n",
       "      <td>J</td>\n",
       "      <td>50</td>\n",
       "      <td>M</td>\n",
       "      <td>6957.0</td>\n",
       "      <td>1263</td>\n",
       "      <td>Samsung</td>\n",
       "      <td>Android OS</td>\n",
       "      <td>1</td>\n",
       "      <td>1</td>\n",
       "      <td>...</td>\n",
       "      <td>0.000000</td>\n",
       "      <td>0.0</td>\n",
       "      <td>0.00</td>\n",
       "      <td>0.56</td>\n",
       "      <td>0.00</td>\n",
       "      <td>0.00</td>\n",
       "      <td>60.0</td>\n",
       "      <td>7.0</td>\n",
       "      <td>0.0</td>\n",
       "      <td>1</td>\n",
       "    </tr>\n",
       "    <tr>\n",
       "      <th>34347</th>\n",
       "      <td>8JWaD2wYoQ</td>\n",
       "      <td>M</td>\n",
       "      <td>52</td>\n",
       "      <td>M</td>\n",
       "      <td>1041.0</td>\n",
       "      <td>125</td>\n",
       "      <td>Samsung</td>\n",
       "      <td>Android OS</td>\n",
       "      <td>2</td>\n",
       "      <td>1</td>\n",
       "      <td>...</td>\n",
       "      <td>206.536585</td>\n",
       "      <td>0.0</td>\n",
       "      <td>0.40</td>\n",
       "      <td>0.00</td>\n",
       "      <td>0.16</td>\n",
       "      <td>0.24</td>\n",
       "      <td>156.0</td>\n",
       "      <td>0.0</td>\n",
       "      <td>2.0</td>\n",
       "      <td>1</td>\n",
       "    </tr>\n",
       "    <tr>\n",
       "      <th>72797</th>\n",
       "      <td>sbPnQURi3j</td>\n",
       "      <td>A</td>\n",
       "      <td>49</td>\n",
       "      <td>U</td>\n",
       "      <td>7176.0</td>\n",
       "      <td>345</td>\n",
       "      <td>Samsung</td>\n",
       "      <td>Android OS</td>\n",
       "      <td>1</td>\n",
       "      <td>1</td>\n",
       "      <td>...</td>\n",
       "      <td>0.000000</td>\n",
       "      <td>0.0</td>\n",
       "      <td>0.25</td>\n",
       "      <td>2.35</td>\n",
       "      <td>0.00</td>\n",
       "      <td>0.25</td>\n",
       "      <td>241.0</td>\n",
       "      <td>87.0</td>\n",
       "      <td>4.0</td>\n",
       "      <td>1</td>\n",
       "    </tr>\n",
       "    <tr>\n",
       "      <th>68025</th>\n",
       "      <td>qOy-JlqPTl</td>\n",
       "      <td>M</td>\n",
       "      <td>49</td>\n",
       "      <td>M</td>\n",
       "      <td>4309.0</td>\n",
       "      <td>466</td>\n",
       "      <td>Samsung</td>\n",
       "      <td>Android OS</td>\n",
       "      <td>1</td>\n",
       "      <td>1</td>\n",
       "      <td>...</td>\n",
       "      <td>51.885746</td>\n",
       "      <td>0.0</td>\n",
       "      <td>0.00</td>\n",
       "      <td>0.00</td>\n",
       "      <td>0.00</td>\n",
       "      <td>0.00</td>\n",
       "      <td>299.0</td>\n",
       "      <td>142.0</td>\n",
       "      <td>80.0</td>\n",
       "      <td>1</td>\n",
       "    </tr>\n",
       "    <tr>\n",
       "      <th>31781</th>\n",
       "      <td>MNODhcb7h0</td>\n",
       "      <td>A</td>\n",
       "      <td>50</td>\n",
       "      <td>U</td>\n",
       "      <td>6999.0</td>\n",
       "      <td>695</td>\n",
       "      <td>Samsung</td>\n",
       "      <td>Android OS</td>\n",
       "      <td>1</td>\n",
       "      <td>1</td>\n",
       "      <td>...</td>\n",
       "      <td>0.000000</td>\n",
       "      <td>0.0</td>\n",
       "      <td>0.00</td>\n",
       "      <td>0.80</td>\n",
       "      <td>0.00</td>\n",
       "      <td>0.00</td>\n",
       "      <td>121.0</td>\n",
       "      <td>96.0</td>\n",
       "      <td>0.0</td>\n",
       "      <td>1</td>\n",
       "    </tr>\n",
       "  </tbody>\n",
       "</table>\n",
       "<p>5 rows × 132 columns</p>\n",
       "</div>"
      ],
      "text/plain": [
       "      telephone_number trf age gndr  tenure age_dev  dev_man device_os_name  \\\n",
       "9626        iWBn_13aJO   J  50    M  6957.0    1263  Samsung     Android OS   \n",
       "34347       8JWaD2wYoQ   M  52    M  1041.0     125  Samsung     Android OS   \n",
       "72797       sbPnQURi3j   A  49    U  7176.0     345  Samsung     Android OS   \n",
       "68025       qOy-JlqPTl   M  49    M  4309.0     466  Samsung     Android OS   \n",
       "31781       MNODhcb7h0   A  50    U  6999.0     695  Samsung     Android OS   \n",
       "\n",
       "      dev_num is_dualsim  ...     val13_6 val14_6 val15_6 val16_6  val17_6  \\\n",
       "9626        1          1  ...    0.000000     0.0    0.00    0.56     0.00   \n",
       "34347       2          1  ...  206.536585     0.0    0.40    0.00     0.16   \n",
       "72797       1          1  ...    0.000000     0.0    0.25    2.35     0.00   \n",
       "68025       1          1  ...   51.885746     0.0    0.00    0.00     0.00   \n",
       "31781       1          1  ...    0.000000     0.0    0.00    0.80     0.00   \n",
       "\n",
       "       val18_6  val19_6  val20_6  val21_6  target  \n",
       "9626      0.00     60.0      7.0      0.0       1  \n",
       "34347     0.24    156.0      0.0      2.0       1  \n",
       "72797     0.25    241.0     87.0      4.0       1  \n",
       "68025     0.00    299.0    142.0     80.0       1  \n",
       "31781     0.00    121.0     96.0      0.0       1  \n",
       "\n",
       "[5 rows x 132 columns]"
      ]
     },
     "execution_count": 70,
     "metadata": {},
     "output_type": "execute_result"
    }
   ],
   "source": [
    "df.head()"
   ]
  },
  {
   "cell_type": "code",
   "execution_count": 71,
   "id": "1f7824f6-895d-4291-ae60-3d822329b7f1",
   "metadata": {
    "execution": {
     "iopub.execute_input": "2025-08-11T04:17:48.749564Z",
     "iopub.status.busy": "2025-08-11T04:17:48.748904Z",
     "iopub.status.idle": "2025-08-11T04:17:48.977358Z",
     "shell.execute_reply": "2025-08-11T04:17:48.976684Z",
     "shell.execute_reply.started": "2025-08-11T04:17:48.749538Z"
    }
   },
   "outputs": [
    {
     "data": {
      "text/html": [
       "<div>\n",
       "<style scoped>\n",
       "    .dataframe tbody tr th:only-of-type {\n",
       "        vertical-align: middle;\n",
       "    }\n",
       "\n",
       "    .dataframe tbody tr th {\n",
       "        vertical-align: top;\n",
       "    }\n",
       "\n",
       "    .dataframe thead th {\n",
       "        text-align: right;\n",
       "    }\n",
       "</style>\n",
       "<table border=\"1\" class=\"dataframe\">\n",
       "  <thead>\n",
       "    <tr style=\"text-align: right;\">\n",
       "      <th></th>\n",
       "      <th>tenure</th>\n",
       "      <th>val2_1</th>\n",
       "      <th>val3_1</th>\n",
       "      <th>val4_1</th>\n",
       "      <th>val5_1</th>\n",
       "      <th>val6_1</th>\n",
       "      <th>val7_1</th>\n",
       "      <th>val8_1</th>\n",
       "      <th>val9_1</th>\n",
       "      <th>val10_1</th>\n",
       "      <th>...</th>\n",
       "      <th>val13_6</th>\n",
       "      <th>val14_6</th>\n",
       "      <th>val15_6</th>\n",
       "      <th>val16_6</th>\n",
       "      <th>val17_6</th>\n",
       "      <th>val18_6</th>\n",
       "      <th>val19_6</th>\n",
       "      <th>val20_6</th>\n",
       "      <th>val21_6</th>\n",
       "      <th>target</th>\n",
       "    </tr>\n",
       "  </thead>\n",
       "  <tbody>\n",
       "    <tr>\n",
       "      <th>count</th>\n",
       "      <td>9974.000000</td>\n",
       "      <td>10000.000000</td>\n",
       "      <td>10000.000000</td>\n",
       "      <td>10000.000000</td>\n",
       "      <td>10000.00000</td>\n",
       "      <td>10000.000000</td>\n",
       "      <td>10000.000000</td>\n",
       "      <td>10000.000000</td>\n",
       "      <td>10000.000000</td>\n",
       "      <td>10000.000000</td>\n",
       "      <td>...</td>\n",
       "      <td>9728.000000</td>\n",
       "      <td>9728.000000</td>\n",
       "      <td>9.728000e+03</td>\n",
       "      <td>9.728000e+03</td>\n",
       "      <td>9.728000e+03</td>\n",
       "      <td>9.728000e+03</td>\n",
       "      <td>9728.000000</td>\n",
       "      <td>9728.000000</td>\n",
       "      <td>9728.000000</td>\n",
       "      <td>10000.000000</td>\n",
       "    </tr>\n",
       "    <tr>\n",
       "      <th>mean</th>\n",
       "      <td>3705.959996</td>\n",
       "      <td>12.236181</td>\n",
       "      <td>3.446700</td>\n",
       "      <td>83.165400</td>\n",
       "      <td>132.10566</td>\n",
       "      <td>26.930500</td>\n",
       "      <td>32.450760</td>\n",
       "      <td>10.987100</td>\n",
       "      <td>13.048270</td>\n",
       "      <td>14.784100</td>\n",
       "      <td>...</td>\n",
       "      <td>2028.914189</td>\n",
       "      <td>0.141146</td>\n",
       "      <td>8.848952e-01</td>\n",
       "      <td>1.577953e+00</td>\n",
       "      <td>3.542630e-01</td>\n",
       "      <td>4.751151e-01</td>\n",
       "      <td>185.486842</td>\n",
       "      <td>67.556127</td>\n",
       "      <td>20.955387</td>\n",
       "      <td>0.500000</td>\n",
       "    </tr>\n",
       "    <tr>\n",
       "      <th>std</th>\n",
       "      <td>2662.023191</td>\n",
       "      <td>16.818445</td>\n",
       "      <td>4.948314</td>\n",
       "      <td>161.116319</td>\n",
       "      <td>322.39447</td>\n",
       "      <td>61.231913</td>\n",
       "      <td>84.935862</td>\n",
       "      <td>29.115987</td>\n",
       "      <td>42.586931</td>\n",
       "      <td>37.451093</td>\n",
       "      <td>...</td>\n",
       "      <td>9118.745830</td>\n",
       "      <td>2.658871</td>\n",
       "      <td>2.040635e+00</td>\n",
       "      <td>2.878263e+00</td>\n",
       "      <td>1.045168e+00</td>\n",
       "      <td>1.238263e+00</td>\n",
       "      <td>259.493942</td>\n",
       "      <td>132.488722</td>\n",
       "      <td>49.859408</td>\n",
       "      <td>0.500025</td>\n",
       "    </tr>\n",
       "    <tr>\n",
       "      <th>min</th>\n",
       "      <td>0.000000</td>\n",
       "      <td>0.000000</td>\n",
       "      <td>0.000000</td>\n",
       "      <td>0.000000</td>\n",
       "      <td>0.00000</td>\n",
       "      <td>0.000000</td>\n",
       "      <td>0.000000</td>\n",
       "      <td>0.000000</td>\n",
       "      <td>0.000000</td>\n",
       "      <td>0.000000</td>\n",
       "      <td>...</td>\n",
       "      <td>0.000000</td>\n",
       "      <td>0.000000</td>\n",
       "      <td>-6.183982e-08</td>\n",
       "      <td>-1.108646e-07</td>\n",
       "      <td>-3.352761e-08</td>\n",
       "      <td>-3.576279e-08</td>\n",
       "      <td>0.000000</td>\n",
       "      <td>0.000000</td>\n",
       "      <td>0.000000</td>\n",
       "      <td>0.000000</td>\n",
       "    </tr>\n",
       "    <tr>\n",
       "      <th>25%</th>\n",
       "      <td>1256.250000</td>\n",
       "      <td>2.000000</td>\n",
       "      <td>1.000000</td>\n",
       "      <td>4.000000</td>\n",
       "      <td>3.37500</td>\n",
       "      <td>0.000000</td>\n",
       "      <td>0.000000</td>\n",
       "      <td>0.000000</td>\n",
       "      <td>0.000000</td>\n",
       "      <td>0.000000</td>\n",
       "      <td>...</td>\n",
       "      <td>0.000000</td>\n",
       "      <td>0.000000</td>\n",
       "      <td>0.000000e+00</td>\n",
       "      <td>0.000000e+00</td>\n",
       "      <td>0.000000e+00</td>\n",
       "      <td>0.000000e+00</td>\n",
       "      <td>37.000000</td>\n",
       "      <td>3.000000</td>\n",
       "      <td>0.000000</td>\n",
       "      <td>0.000000</td>\n",
       "    </tr>\n",
       "    <tr>\n",
       "      <th>50%</th>\n",
       "      <td>3022.500000</td>\n",
       "      <td>6.000000</td>\n",
       "      <td>2.000000</td>\n",
       "      <td>26.000000</td>\n",
       "      <td>31.00000</td>\n",
       "      <td>5.000000</td>\n",
       "      <td>4.500000</td>\n",
       "      <td>1.000000</td>\n",
       "      <td>0.900000</td>\n",
       "      <td>2.000000</td>\n",
       "      <td>...</td>\n",
       "      <td>0.000000</td>\n",
       "      <td>0.000000</td>\n",
       "      <td>1.500000e-01</td>\n",
       "      <td>4.400000e-01</td>\n",
       "      <td>0.000000e+00</td>\n",
       "      <td>1.072884e-08</td>\n",
       "      <td>96.000000</td>\n",
       "      <td>20.000000</td>\n",
       "      <td>4.000000</td>\n",
       "      <td>0.500000</td>\n",
       "    </tr>\n",
       "    <tr>\n",
       "      <th>75%</th>\n",
       "      <td>6261.000000</td>\n",
       "      <td>16.000000</td>\n",
       "      <td>4.000000</td>\n",
       "      <td>85.000000</td>\n",
       "      <td>114.00000</td>\n",
       "      <td>23.000000</td>\n",
       "      <td>23.200000</td>\n",
       "      <td>8.000000</td>\n",
       "      <td>8.000000</td>\n",
       "      <td>11.000000</td>\n",
       "      <td>...</td>\n",
       "      <td>200.062908</td>\n",
       "      <td>0.000000</td>\n",
       "      <td>9.000000e-01</td>\n",
       "      <td>2.000000e+00</td>\n",
       "      <td>3.000000e-01</td>\n",
       "      <td>4.200000e-01</td>\n",
       "      <td>223.000000</td>\n",
       "      <td>67.000000</td>\n",
       "      <td>18.000000</td>\n",
       "      <td>1.000000</td>\n",
       "    </tr>\n",
       "    <tr>\n",
       "      <th>max</th>\n",
       "      <td>8978.000000</td>\n",
       "      <td>325.000000</td>\n",
       "      <td>90.000000</td>\n",
       "      <td>2628.000000</td>\n",
       "      <td>6219.30000</td>\n",
       "      <td>940.000000</td>\n",
       "      <td>2176.100000</td>\n",
       "      <td>504.000000</td>\n",
       "      <td>1667.600000</td>\n",
       "      <td>567.000000</td>\n",
       "      <td>...</td>\n",
       "      <td>159548.365647</td>\n",
       "      <td>192.462886</td>\n",
       "      <td>4.920000e+01</td>\n",
       "      <td>5.918000e+01</td>\n",
       "      <td>3.464000e+01</td>\n",
       "      <td>2.886000e+01</td>\n",
       "      <td>4488.000000</td>\n",
       "      <td>1958.000000</td>\n",
       "      <td>1070.000000</td>\n",
       "      <td>1.000000</td>\n",
       "    </tr>\n",
       "  </tbody>\n",
       "</table>\n",
       "<p>8 rows × 119 columns</p>\n",
       "</div>"
      ],
      "text/plain": [
       "            tenure        val2_1        val3_1        val4_1       val5_1  \\\n",
       "count  9974.000000  10000.000000  10000.000000  10000.000000  10000.00000   \n",
       "mean   3705.959996     12.236181      3.446700     83.165400    132.10566   \n",
       "std    2662.023191     16.818445      4.948314    161.116319    322.39447   \n",
       "min       0.000000      0.000000      0.000000      0.000000      0.00000   \n",
       "25%    1256.250000      2.000000      1.000000      4.000000      3.37500   \n",
       "50%    3022.500000      6.000000      2.000000     26.000000     31.00000   \n",
       "75%    6261.000000     16.000000      4.000000     85.000000    114.00000   \n",
       "max    8978.000000    325.000000     90.000000   2628.000000   6219.30000   \n",
       "\n",
       "             val6_1        val7_1        val8_1        val9_1       val10_1  \\\n",
       "count  10000.000000  10000.000000  10000.000000  10000.000000  10000.000000   \n",
       "mean      26.930500     32.450760     10.987100     13.048270     14.784100   \n",
       "std       61.231913     84.935862     29.115987     42.586931     37.451093   \n",
       "min        0.000000      0.000000      0.000000      0.000000      0.000000   \n",
       "25%        0.000000      0.000000      0.000000      0.000000      0.000000   \n",
       "50%        5.000000      4.500000      1.000000      0.900000      2.000000   \n",
       "75%       23.000000     23.200000      8.000000      8.000000     11.000000   \n",
       "max      940.000000   2176.100000    504.000000   1667.600000    567.000000   \n",
       "\n",
       "       ...        val13_6      val14_6       val15_6       val16_6  \\\n",
       "count  ...    9728.000000  9728.000000  9.728000e+03  9.728000e+03   \n",
       "mean   ...    2028.914189     0.141146  8.848952e-01  1.577953e+00   \n",
       "std    ...    9118.745830     2.658871  2.040635e+00  2.878263e+00   \n",
       "min    ...       0.000000     0.000000 -6.183982e-08 -1.108646e-07   \n",
       "25%    ...       0.000000     0.000000  0.000000e+00  0.000000e+00   \n",
       "50%    ...       0.000000     0.000000  1.500000e-01  4.400000e-01   \n",
       "75%    ...     200.062908     0.000000  9.000000e-01  2.000000e+00   \n",
       "max    ...  159548.365647   192.462886  4.920000e+01  5.918000e+01   \n",
       "\n",
       "            val17_6       val18_6      val19_6      val20_6      val21_6  \\\n",
       "count  9.728000e+03  9.728000e+03  9728.000000  9728.000000  9728.000000   \n",
       "mean   3.542630e-01  4.751151e-01   185.486842    67.556127    20.955387   \n",
       "std    1.045168e+00  1.238263e+00   259.493942   132.488722    49.859408   \n",
       "min   -3.352761e-08 -3.576279e-08     0.000000     0.000000     0.000000   \n",
       "25%    0.000000e+00  0.000000e+00    37.000000     3.000000     0.000000   \n",
       "50%    0.000000e+00  1.072884e-08    96.000000    20.000000     4.000000   \n",
       "75%    3.000000e-01  4.200000e-01   223.000000    67.000000    18.000000   \n",
       "max    3.464000e+01  2.886000e+01  4488.000000  1958.000000  1070.000000   \n",
       "\n",
       "             target  \n",
       "count  10000.000000  \n",
       "mean       0.500000  \n",
       "std        0.500025  \n",
       "min        0.000000  \n",
       "25%        0.000000  \n",
       "50%        0.500000  \n",
       "75%        1.000000  \n",
       "max        1.000000  \n",
       "\n",
       "[8 rows x 119 columns]"
      ]
     },
     "execution_count": 71,
     "metadata": {},
     "output_type": "execute_result"
    }
   ],
   "source": [
    "df.describe()"
   ]
  },
  {
   "cell_type": "code",
   "execution_count": 72,
   "id": "0e55b19f-437e-4893-8665-a668b203d03f",
   "metadata": {
    "execution": {
     "iopub.execute_input": "2025-08-11T04:17:49.265294Z",
     "iopub.status.busy": "2025-08-11T04:17:49.264595Z",
     "iopub.status.idle": "2025-08-11T04:17:49.278312Z",
     "shell.execute_reply": "2025-08-11T04:17:49.277756Z",
     "shell.execute_reply.started": "2025-08-11T04:17:49.265266Z"
    }
   },
   "outputs": [
    {
     "name": "stdout",
     "output_type": "stream",
     "text": [
      "telephone_number            0\n",
      "trf            0\n",
      "age            24\n",
      "gndr            0\n",
      "tenure            26\n",
      "age_dev            20\n",
      "dev_man            20\n",
      "device_os_name            20\n",
      "dev_num            20\n",
      "is_dualsim            0\n",
      "is_featurephone            0\n",
      "is_smartphone            0\n",
      "simcard_type            349\n",
      "region            96\n",
      "val2_1            0\n",
      "val3_1            0\n",
      "val4_1            0\n",
      "val5_1            0\n",
      "val6_1            0\n",
      "val7_1            0\n",
      "val8_1            0\n",
      "val9_1            0\n",
      "val10_1            0\n",
      "val11_1            0\n",
      "val12_1            0\n",
      "val13_1            0\n",
      "val14_1            0\n",
      "val15_1            0\n",
      "val16_1            0\n",
      "val17_1            0\n",
      "val18_1            0\n",
      "val19_1            0\n",
      "val20_1            0\n",
      "val21_1            0\n",
      "val2_2            160\n",
      "val3_2            160\n",
      "val4_2            160\n",
      "val5_2            160\n",
      "val6_2            160\n",
      "val7_2            160\n",
      "val8_2            160\n",
      "val9_2            160\n",
      "val10_2            160\n",
      "val11_2            160\n",
      "val12_2            160\n",
      "val13_2            160\n",
      "val14_2            160\n",
      "val15_2            160\n",
      "val16_2            160\n",
      "val17_2            160\n",
      "val18_2            160\n",
      "val19_2            160\n",
      "val20_2            160\n",
      "val21_2            160\n",
      "val2_3            183\n",
      "val3_3            183\n",
      "val4_3            183\n",
      "val5_3            183\n",
      "val6_3            183\n",
      "val7_3            183\n",
      "val8_3            183\n",
      "val9_3            183\n",
      "val10_3            183\n",
      "val11_3            183\n",
      "val12_3            183\n",
      "val13_3            183\n",
      "val14_3            183\n",
      "val15_3            183\n",
      "val16_3            183\n",
      "val17_3            183\n",
      "val18_3            183\n",
      "val19_3            183\n",
      "val20_3            183\n",
      "val21_3            183\n",
      "val2_4            210\n",
      "val4_4            210\n",
      "val5_4            210\n",
      "val6_4            210\n",
      "val7_4            210\n",
      "val8_4            210\n",
      "val9_4            210\n",
      "val10_4            210\n",
      "val11_4            210\n",
      "val12_4            210\n",
      "val13_4            210\n",
      "val14_4            210\n",
      "val15_4            210\n",
      "val16_4            210\n",
      "val17_4            210\n",
      "val18_4            210\n",
      "val19_4            210\n",
      "val20_4            210\n",
      "val21_4            210\n",
      "val2_5            232\n",
      "val4_5            232\n",
      "val5_5            232\n",
      "val6_5            232\n",
      "val7_5            232\n",
      "val8_5            232\n",
      "val9_5            232\n",
      "val10_5            232\n",
      "val11_5            232\n",
      "val12_5            232\n",
      "val13_5            232\n",
      "val14_5            232\n",
      "val15_5            232\n",
      "val16_5            232\n",
      "val17_5            232\n",
      "val18_5            232\n",
      "val19_5            232\n",
      "val20_5            232\n",
      "val21_5            232\n",
      "val2_6            272\n",
      "val4_6            272\n",
      "val5_6            272\n",
      "val6_6            272\n",
      "val7_6            272\n",
      "val8_6            272\n",
      "val9_6            272\n",
      "val10_6            272\n",
      "val11_6            272\n",
      "val12_6            272\n",
      "val13_6            272\n",
      "val14_6            272\n",
      "val15_6            272\n",
      "val16_6            272\n",
      "val17_6            272\n",
      "val18_6            272\n",
      "val19_6            272\n",
      "val20_6            272\n",
      "val21_6            272\n",
      "target            0\n"
     ]
    }
   ],
   "source": [
    "for x, y in df.isna().sum().items():\n",
    "    print(f'{x}            {y}')"
   ]
  },
  {
   "cell_type": "code",
   "execution_count": 73,
   "id": "c602c0ea-af37-4505-8abd-345d7bb54088",
   "metadata": {
    "execution": {
     "iopub.execute_input": "2025-08-11T04:17:49.747091Z",
     "iopub.status.busy": "2025-08-11T04:17:49.746586Z",
     "iopub.status.idle": "2025-08-11T04:17:49.755853Z",
     "shell.execute_reply": "2025-08-11T04:17:49.755113Z",
     "shell.execute_reply.started": "2025-08-11T04:17:49.747068Z"
    }
   },
   "outputs": [],
   "source": [
    "df['age'] = pd.to_numeric(df['age'])"
   ]
  },
  {
   "cell_type": "code",
   "execution_count": 74,
   "id": "1a93dc62-0940-406c-80c3-bf1823fbbc33",
   "metadata": {
    "execution": {
     "iopub.execute_input": "2025-08-11T04:17:50.264370Z",
     "iopub.status.busy": "2025-08-11T04:17:50.263752Z",
     "iopub.status.idle": "2025-08-11T04:17:50.273076Z",
     "shell.execute_reply": "2025-08-11T04:17:50.272483Z",
     "shell.execute_reply.started": "2025-08-11T04:17:50.264345Z"
    }
   },
   "outputs": [],
   "source": [
    "df['age_dev'] = pd.to_numeric(df['age_dev'])"
   ]
  },
  {
   "cell_type": "code",
   "execution_count": 75,
   "id": "55887656-3ed1-453c-b4cf-1d828caf5029",
   "metadata": {
    "execution": {
     "iopub.execute_input": "2025-08-11T04:17:51.018950Z",
     "iopub.status.busy": "2025-08-11T04:17:51.018557Z",
     "iopub.status.idle": "2025-08-11T04:17:51.024746Z",
     "shell.execute_reply": "2025-08-11T04:17:51.024069Z",
     "shell.execute_reply.started": "2025-08-11T04:17:51.018926Z"
    }
   },
   "outputs": [
    {
     "name": "stdout",
     "output_type": "stream",
     "text": [
      "telephone_number    object\n",
      "trf    object\n",
      "age    float64\n",
      "gndr    object\n",
      "tenure    float64\n",
      "age_dev    float64\n",
      "dev_man    object\n",
      "device_os_name    object\n",
      "dev_num    object\n",
      "is_dualsim    object\n",
      "is_featurephone    object\n",
      "is_smartphone    object\n",
      "simcard_type    object\n",
      "region    object\n",
      "val2_1    float64\n",
      "val3_1    float64\n",
      "val4_1    int64\n",
      "val5_1    float64\n",
      "val6_1    int64\n",
      "val7_1    float64\n",
      "val8_1    int64\n",
      "val9_1    float64\n",
      "val10_1    int64\n",
      "val11_1    float64\n",
      "val12_1    float64\n",
      "val13_1    float64\n",
      "val14_1    float64\n",
      "val15_1    float64\n",
      "val16_1    float64\n",
      "val17_1    float64\n",
      "val18_1    float64\n",
      "val19_1    int64\n",
      "val20_1    int64\n",
      "val21_1    int64\n",
      "val2_2    float64\n",
      "val3_2    float64\n",
      "val4_2    float64\n",
      "val5_2    float64\n",
      "val6_2    float64\n",
      "val7_2    float64\n",
      "val8_2    float64\n",
      "val9_2    float64\n",
      "val10_2    float64\n",
      "val11_2    float64\n",
      "val12_2    float64\n",
      "val13_2    float64\n",
      "val14_2    float64\n",
      "val15_2    float64\n",
      "val16_2    float64\n",
      "val17_2    float64\n",
      "val18_2    float64\n",
      "val19_2    float64\n",
      "val20_2    float64\n",
      "val21_2    float64\n",
      "val2_3    float64\n",
      "val3_3    float64\n",
      "val4_3    float64\n",
      "val5_3    float64\n",
      "val6_3    float64\n",
      "val7_3    float64\n",
      "val8_3    float64\n",
      "val9_3    float64\n",
      "val10_3    float64\n",
      "val11_3    float64\n",
      "val12_3    float64\n",
      "val13_3    float64\n",
      "val14_3    float64\n",
      "val15_3    float64\n",
      "val16_3    float64\n",
      "val17_3    float64\n",
      "val18_3    float64\n",
      "val19_3    float64\n",
      "val20_3    float64\n",
      "val21_3    float64\n",
      "val2_4    float64\n",
      "val4_4    float64\n",
      "val5_4    float64\n",
      "val6_4    float64\n",
      "val7_4    float64\n",
      "val8_4    float64\n",
      "val9_4    float64\n",
      "val10_4    float64\n",
      "val11_4    float64\n",
      "val12_4    float64\n",
      "val13_4    float64\n",
      "val14_4    float64\n",
      "val15_4    float64\n",
      "val16_4    float64\n",
      "val17_4    float64\n",
      "val18_4    float64\n",
      "val19_4    float64\n",
      "val20_4    float64\n",
      "val21_4    float64\n",
      "val2_5    float64\n",
      "val4_5    float64\n",
      "val5_5    float64\n",
      "val6_5    float64\n",
      "val7_5    float64\n",
      "val8_5    float64\n",
      "val9_5    float64\n",
      "val10_5    float64\n",
      "val11_5    float64\n",
      "val12_5    float64\n",
      "val13_5    float64\n",
      "val14_5    float64\n",
      "val15_5    float64\n",
      "val16_5    float64\n",
      "val17_5    float64\n",
      "val18_5    float64\n",
      "val19_5    float64\n",
      "val20_5    float64\n",
      "val21_5    float64\n",
      "val2_6    float64\n",
      "val4_6    float64\n",
      "val5_6    float64\n",
      "val6_6    float64\n",
      "val7_6    float64\n",
      "val8_6    float64\n",
      "val9_6    float64\n",
      "val10_6    float64\n",
      "val11_6    float64\n",
      "val12_6    float64\n",
      "val13_6    float64\n",
      "val14_6    float64\n",
      "val15_6    float64\n",
      "val16_6    float64\n",
      "val17_6    float64\n",
      "val18_6    float64\n",
      "val19_6    float64\n",
      "val20_6    float64\n",
      "val21_6    float64\n",
      "target    int64\n"
     ]
    }
   ],
   "source": [
    "for x, y in df.dtypes.items():\n",
    "    print(f'{x}    {y}')"
   ]
  },
  {
   "cell_type": "code",
   "execution_count": 76,
   "id": "4518d359-8d4e-4922-bc30-c46c06c64270",
   "metadata": {
    "execution": {
     "iopub.execute_input": "2025-08-11T04:17:51.557227Z",
     "iopub.status.busy": "2025-08-11T04:17:51.556451Z",
     "iopub.status.idle": "2025-08-11T04:17:51.565606Z",
     "shell.execute_reply": "2025-08-11T04:17:51.564828Z",
     "shell.execute_reply.started": "2025-08-11T04:17:51.557197Z"
    }
   },
   "outputs": [],
   "source": [
    "df = df[df['age'] < 150]#one value 1941 exists"
   ]
  },
  {
   "cell_type": "code",
   "execution_count": 77,
   "id": "b89cbf8b-33f8-47a5-b0d5-d71c7f590654",
   "metadata": {
    "execution": {
     "iopub.execute_input": "2025-08-11T04:17:52.195707Z",
     "iopub.status.busy": "2025-08-11T04:17:52.195140Z",
     "iopub.status.idle": "2025-08-11T04:17:52.308388Z",
     "shell.execute_reply": "2025-08-11T04:17:52.307698Z",
     "shell.execute_reply.started": "2025-08-11T04:17:52.195678Z"
    }
   },
   "outputs": [
    {
     "data": {
      "text/plain": [
       "<Axes: xlabel='age'>"
      ]
     },
     "execution_count": 77,
     "metadata": {},
     "output_type": "execute_result"
    },
    {
     "data": {
      "image/png": "[encoded data removed]",
      "text/plain": [
       "<Figure size 640x480 with 1 Axes>"
      ]
     },
     "metadata": {},
     "output_type": "display_data"
    }
   ],
   "source": [
    "sns.boxplot(data = df, x = 'age')"
   ]
  },
  {
   "cell_type": "code",
   "execution_count": 78,
   "id": "5572d3dc-5f88-4d0d-bd94-c1d88783b03a",
   "metadata": {
    "execution": {
     "iopub.execute_input": "2025-08-11T04:17:52.921896Z",
     "iopub.status.busy": "2025-08-11T04:17:52.921504Z",
     "iopub.status.idle": "2025-08-11T04:17:53.138904Z",
     "shell.execute_reply": "2025-08-11T04:17:53.138328Z",
     "shell.execute_reply.started": "2025-08-11T04:17:52.921873Z"
    }
   },
   "outputs": [
    {
     "data": {
      "text/plain": [
       "<Axes: xlabel='trf', ylabel='count'>"
      ]
     },
     "execution_count": 78,
     "metadata": {},
     "output_type": "execute_result"
    },
    {
     "data": {
      "image/png": "[encoded data removed]",
      "text/plain": [
       "<Figure size 640x480 with 1 Axes>"
      ]
     },
     "metadata": {},
     "output_type": "display_data"
    }
   ],
   "source": [
    "sns.countplot(data = df, x = df['trf'])"
   ]
  },
  {
   "cell_type": "code",
   "execution_count": 79,
   "id": "8eb38bbd-75c1-4700-bb86-f4d0e3680f08",
   "metadata": {
    "execution": {
     "iopub.execute_input": "2025-08-11T04:17:53.562085Z",
     "iopub.status.busy": "2025-08-11T04:17:53.561611Z",
     "iopub.status.idle": "2025-08-11T04:17:53.758269Z",
     "shell.execute_reply": "2025-08-11T04:17:53.757506Z",
     "shell.execute_reply.started": "2025-08-11T04:17:53.562060Z"
    }
   },
   "outputs": [
    {
     "data": {
      "text/plain": [
       "<Axes: xlabel='simcard_type', ylabel='trf'>"
      ]
     },
     "execution_count": 79,
     "metadata": {},
     "output_type": "execute_result"
    },
    {
     "data": {
      "image/png": "[encoded data removed]",
      "text/plain": [
       "<Figure size 640x480 with 1 Axes>"
      ]
     },
     "metadata": {},
     "output_type": "display_data"
    }
   ],
   "source": [
    "sns.scatterplot(data = df, x = 'simcard_type', y = 'trf')"
   ]
  },
  {
   "cell_type": "code",
   "execution_count": 80,
   "id": "606ca158-40b1-4037-a40d-60219098069e",
   "metadata": {
    "execution": {
     "iopub.execute_input": "2025-08-11T04:17:54.271063Z",
     "iopub.status.busy": "2025-08-11T04:17:54.270783Z",
     "iopub.status.idle": "2025-08-11T04:17:54.488077Z",
     "shell.execute_reply": "2025-08-11T04:17:54.487397Z",
     "shell.execute_reply.started": "2025-08-11T04:17:54.271042Z"
    }
   },
   "outputs": [
    {
     "data": {
      "text/plain": [
       "<Axes: xlabel='trf', ylabel='age'>"
      ]
     },
     "execution_count": 80,
     "metadata": {},
     "output_type": "execute_result"
    },
    {
     "data": {
      "image/png": "[encoded data removed]",
      "text/plain": [
       "<Figure size 640x480 with 1 Axes>"
      ]
     },
     "metadata": {},
     "output_type": "display_data"
    }
   ],
   "source": [
    "sns.scatterplot(data = df, x = 'trf', y = 'age')"
   ]
  },
  {
   "cell_type": "code",
   "execution_count": 81,
   "id": "ae2577d2-6f8e-451a-a06e-a84337458bc6",
   "metadata": {
    "execution": {
     "iopub.execute_input": "2025-08-11T04:17:54.834223Z",
     "iopub.status.busy": "2025-08-11T04:17:54.833471Z",
     "iopub.status.idle": "2025-08-11T04:17:55.380810Z",
     "shell.execute_reply": "2025-08-11T04:17:55.380049Z",
     "shell.execute_reply.started": "2025-08-11T04:17:54.834196Z"
    }
   },
   "outputs": [
    {
     "data": {
      "text/plain": [
       "<Axes: xlabel='age', ylabel='Count'>"
      ]
     },
     "execution_count": 81,
     "metadata": {},
     "output_type": "execute_result"
    },
    {
     "data": {
      "image/png": "[encoded data removed]",
      "text/plain": [
       "<Figure size 640x480 with 1 Axes>"
      ]
     },
     "metadata": {},
     "output_type": "display_data"
    }
   ],
   "source": [
    "sns.histplot(data = df, x = df['age'])"
   ]
  },
  {
   "cell_type": "code",
   "execution_count": 82,
   "id": "522b5560-f85a-4308-8168-c05f50706e1f",
   "metadata": {
    "execution": {
     "iopub.execute_input": "2025-08-11T04:17:56.003059Z",
     "iopub.status.busy": "2025-08-11T04:17:56.002784Z",
     "iopub.status.idle": "2025-08-11T04:17:56.007853Z",
     "shell.execute_reply": "2025-08-11T04:17:56.007287Z",
     "shell.execute_reply.started": "2025-08-11T04:17:56.003038Z"
    }
   },
   "outputs": [
    {
     "name": "stdout",
     "output_type": "stream",
     "text": [
      "[50. 52. 49. 44. 73. 68. 34. 41. 56. 67. 36. 40. 46. 48. 32. 66. 31. 35.\n",
      " 25. 42. 29. 26. 37. 45. 39. 51. 61. 43. 57. 30. 33. 19. 54. 47. 62. 28.\n",
      " 55. 69. 27. 60. 63. 64. 72. 65. 38. 24. 58. 59. 23. 53. 20. 18. 71. 21.\n",
      " 22. 70. 75. 74. 77.  0. 86. 17. 83. 96.  5. 78. 79. 82. 89.  2. 81. 76.\n",
      " 84.  3. 80. 94. 85. 91. 90. 87.]\n"
     ]
    }
   ],
   "source": [
    "print(df['age'].unique())\n"
   ]
  },
  {
   "cell_type": "code",
   "execution_count": 83,
   "id": "6456a4b0-c707-4276-8d37-aa846fb22af4",
   "metadata": {
    "execution": {
     "iopub.execute_input": "2025-08-11T04:17:57.966631Z",
     "iopub.status.busy": "2025-08-11T04:17:57.966346Z",
     "iopub.status.idle": "2025-08-11T04:17:57.972466Z",
     "shell.execute_reply": "2025-08-11T04:17:57.971898Z",
     "shell.execute_reply.started": "2025-08-11T04:17:57.966609Z"
    }
   },
   "outputs": [
    {
     "name": "stdout",
     "output_type": "stream",
     "text": [
      "39.0   ==>     290\n",
      "43.0   ==>     276\n",
      "41.0   ==>     272\n",
      "38.0   ==>     265\n",
      "42.0   ==>     264\n",
      "40.0   ==>     260\n",
      "44.0   ==>     256\n",
      "34.0   ==>     255\n",
      "33.0   ==>     252\n",
      "37.0   ==>     252\n",
      "36.0   ==>     251\n",
      "35.0   ==>     249\n",
      "45.0   ==>     241\n",
      "54.0   ==>     241\n",
      "50.0   ==>     240\n",
      "32.0   ==>     230\n",
      "46.0   ==>     226\n",
      "29.0   ==>     224\n",
      "55.0   ==>     217\n",
      "31.0   ==>     216\n",
      "28.0   ==>     213\n",
      "52.0   ==>     213\n",
      "57.0   ==>     209\n",
      "58.0   ==>     207\n",
      "49.0   ==>     207\n",
      "51.0   ==>     206\n",
      "47.0   ==>     206\n",
      "30.0   ==>     203\n",
      "53.0   ==>     199\n",
      "59.0   ==>     197\n",
      "48.0   ==>     197\n",
      "56.0   ==>     196\n",
      "60.0   ==>     183\n",
      "61.0   ==>     176\n",
      "62.0   ==>     174\n",
      "27.0   ==>     173\n",
      "63.0   ==>     158\n",
      "25.0   ==>     148\n",
      "64.0   ==>     142\n",
      "24.0   ==>     140\n",
      "26.0   ==>     133\n",
      "23.0   ==>     122\n",
      "66.0   ==>     110\n",
      "22.0   ==>     104\n",
      "67.0   ==>     103\n",
      "65.0   ==>     102\n",
      "21.0   ==>     84\n",
      "68.0   ==>     73\n",
      "20.0   ==>     68\n",
      "70.0   ==>     57\n",
      "69.0   ==>     55\n",
      "71.0   ==>     51\n",
      "19.0   ==>     35\n",
      "72.0   ==>     30\n",
      "73.0   ==>     24\n",
      "75.0   ==>     17\n",
      "74.0   ==>     15\n",
      "18.0   ==>     8\n",
      "76.0   ==>     8\n",
      "77.0   ==>     7\n",
      "82.0   ==>     6\n",
      "86.0   ==>     5\n",
      "84.0   ==>     5\n",
      "83.0   ==>     3\n",
      "81.0   ==>     3\n",
      "2.0   ==>     3\n",
      "78.0   ==>     3\n",
      "79.0   ==>     3\n",
      "80.0   ==>     2\n",
      "89.0   ==>     2\n",
      "94.0   ==>     1\n",
      "3.0   ==>     1\n",
      "87.0   ==>     1\n",
      "85.0   ==>     1\n",
      "91.0   ==>     1\n",
      "90.0   ==>     1\n",
      "96.0   ==>     1\n",
      "17.0   ==>     1\n",
      "0.0   ==>     1\n",
      "5.0   ==>     1\n"
     ]
    }
   ],
   "source": [
    "for x, y in df['age'].value_counts().items():\n",
    "    print(x, '  ==>    ', y)"
   ]
  },
  {
   "cell_type": "code",
   "execution_count": 84,
   "id": "17b24b4e-9a66-47ad-b3b8-de4f0b6d6ce9",
   "metadata": {
    "execution": {
     "iopub.execute_input": "2025-08-11T04:17:58.613489Z",
     "iopub.status.busy": "2025-08-11T04:17:58.612924Z",
     "iopub.status.idle": "2025-08-11T04:17:58.622299Z",
     "shell.execute_reply": "2025-08-11T04:17:58.621391Z",
     "shell.execute_reply.started": "2025-08-11T04:17:58.613462Z"
    }
   },
   "outputs": [],
   "source": [
    "X = df.drop('target', axis = 1)\n",
    "y = df['target']"
   ]
  },
  {
   "cell_type": "code",
   "execution_count": 85,
   "id": "bd76207f-db4f-467f-a788-c7cd3fd236ef",
   "metadata": {
    "execution": {
     "iopub.execute_input": "2025-08-11T04:17:59.337161Z",
     "iopub.status.busy": "2025-08-11T04:17:59.336347Z",
     "iopub.status.idle": "2025-08-11T04:17:59.350086Z",
     "shell.execute_reply": "2025-08-11T04:17:59.349491Z",
     "shell.execute_reply.started": "2025-08-11T04:17:59.337133Z"
    }
   },
   "outputs": [],
   "source": [
    "X_train, X_test, y_train, y_test = train_test_split(X, y, test_size = 0.2, random_state = 42)"
   ]
  },
  {
   "cell_type": "code",
   "execution_count": 86,
   "id": "392048a6-d92f-4e46-a7cd-3daf3c0296f8",
   "metadata": {
    "execution": {
     "iopub.execute_input": "2025-08-11T04:18:00.066747Z",
     "iopub.status.busy": "2025-08-11T04:18:00.066270Z",
     "iopub.status.idle": "2025-08-11T04:18:00.079008Z",
     "shell.execute_reply": "2025-08-11T04:18:00.078434Z",
     "shell.execute_reply.started": "2025-08-11T04:18:00.066725Z"
    }
   },
   "outputs": [],
   "source": [
    "num_cols = X_train.select_dtypes(include = 'number').columns.to_list()\n",
    "cat_cols = X_train.select_dtypes(include = 'object').columns.to_list()"
   ]
  },
  {
   "cell_type": "code",
   "execution_count": 87,
   "id": "fba6218e-26d8-428f-a3ff-6dcdf23489d9",
   "metadata": {
    "execution": {
     "iopub.execute_input": "2025-08-11T04:18:00.972348Z",
     "iopub.status.busy": "2025-08-11T04:18:00.971840Z",
     "iopub.status.idle": "2025-08-11T04:18:00.982897Z",
     "shell.execute_reply": "2025-08-11T04:18:00.982251Z",
     "shell.execute_reply.started": "2025-08-11T04:18:00.972319Z"
    }
   },
   "outputs": [
    {
     "name": "stdout",
     "output_type": "stream",
     "text": [
      "telephone_number   0\n",
      "trf   0\n",
      "age   0\n",
      "gndr   0\n",
      "tenure   19\n",
      "age_dev   16\n",
      "dev_man   16\n",
      "device_os_name   16\n",
      "dev_num   16\n",
      "is_dualsim   0\n",
      "is_featurephone   0\n",
      "is_smartphone   0\n",
      "simcard_type   277\n",
      "region   74\n",
      "val2_1   0\n",
      "val3_1   0\n",
      "val4_1   0\n",
      "val5_1   0\n",
      "val6_1   0\n",
      "val7_1   0\n",
      "val8_1   0\n",
      "val9_1   0\n",
      "val10_1   0\n",
      "val11_1   0\n",
      "val12_1   0\n",
      "val13_1   0\n",
      "val14_1   0\n",
      "val15_1   0\n",
      "val16_1   0\n",
      "val17_1   0\n",
      "val18_1   0\n",
      "val19_1   0\n",
      "val20_1   0\n",
      "val21_1   0\n",
      "val2_2   121\n",
      "val3_2   121\n",
      "val4_2   121\n",
      "val5_2   121\n",
      "val6_2   121\n",
      "val7_2   121\n",
      "val8_2   121\n",
      "val9_2   121\n",
      "val10_2   121\n",
      "val11_2   121\n",
      "val12_2   121\n",
      "val13_2   121\n",
      "val14_2   121\n",
      "val15_2   121\n",
      "val16_2   121\n",
      "val17_2   121\n",
      "val18_2   121\n",
      "val19_2   121\n",
      "val20_2   121\n",
      "val21_2   121\n",
      "val2_3   146\n",
      "val3_3   146\n",
      "val4_3   146\n",
      "val5_3   146\n",
      "val6_3   146\n",
      "val7_3   146\n",
      "val8_3   146\n",
      "val9_3   146\n",
      "val10_3   146\n",
      "val11_3   146\n",
      "val12_3   146\n",
      "val13_3   146\n",
      "val14_3   146\n",
      "val15_3   146\n",
      "val16_3   146\n",
      "val17_3   146\n",
      "val18_3   146\n",
      "val19_3   146\n",
      "val20_3   146\n",
      "val21_3   146\n",
      "val2_4   170\n",
      "val4_4   170\n",
      "val5_4   170\n",
      "val6_4   170\n",
      "val7_4   170\n",
      "val8_4   170\n",
      "val9_4   170\n",
      "val10_4   170\n",
      "val11_4   170\n",
      "val12_4   170\n",
      "val13_4   170\n",
      "val14_4   170\n",
      "val15_4   170\n",
      "val16_4   170\n",
      "val17_4   170\n",
      "val18_4   170\n",
      "val19_4   170\n",
      "val20_4   170\n",
      "val21_4   170\n",
      "val2_5   184\n",
      "val4_5   184\n",
      "val5_5   184\n",
      "val6_5   184\n",
      "val7_5   184\n",
      "val8_5   184\n",
      "val9_5   184\n",
      "val10_5   184\n",
      "val11_5   184\n",
      "val12_5   184\n",
      "val13_5   184\n",
      "val14_5   184\n",
      "val15_5   184\n",
      "val16_5   184\n",
      "val17_5   184\n",
      "val18_5   184\n",
      "val19_5   184\n",
      "val20_5   184\n",
      "val21_5   184\n",
      "val2_6   212\n",
      "val4_6   212\n",
      "val5_6   212\n",
      "val6_6   212\n",
      "val7_6   212\n",
      "val8_6   212\n",
      "val9_6   212\n",
      "val10_6   212\n",
      "val11_6   212\n",
      "val12_6   212\n",
      "val13_6   212\n",
      "val14_6   212\n",
      "val15_6   212\n",
      "val16_6   212\n",
      "val17_6   212\n",
      "val18_6   212\n",
      "val19_6   212\n",
      "val20_6   212\n",
      "val21_6   212\n"
     ]
    }
   ],
   "source": [
    "for x, y in X_train.isna().sum().items():\n",
    "    print(f'{x}   {y}')"
   ]
  },
  {
   "cell_type": "code",
   "execution_count": 88,
   "id": "18cc66a0-6973-4594-ab7d-7c7f82b512d0",
   "metadata": {
    "execution": {
     "iopub.execute_input": "2025-08-11T04:18:01.741958Z",
     "iopub.status.busy": "2025-08-11T04:18:01.741677Z",
     "iopub.status.idle": "2025-08-11T04:18:01.746699Z",
     "shell.execute_reply": "2025-08-11T04:18:01.746067Z",
     "shell.execute_reply.started": "2025-08-11T04:18:01.741936Z"
    }
   },
   "outputs": [
    {
     "data": {
      "text/plain": [
       "(7980, 131)"
      ]
     },
     "execution_count": 88,
     "metadata": {},
     "output_type": "execute_result"
    }
   ],
   "source": [
    "X_train.shape"
   ]
  },
  {
   "cell_type": "code",
   "execution_count": 91,
   "id": "9f43d858-b69f-45bd-b5c4-d4505484ae57",
   "metadata": {
    "execution": {
     "iopub.execute_input": "2025-08-11T04:21:12.537798Z",
     "iopub.status.busy": "2025-08-11T04:21:12.537447Z",
     "iopub.status.idle": "2025-08-11T04:21:13.200835Z",
     "shell.execute_reply": "2025-08-11T04:21:13.200147Z",
     "shell.execute_reply.started": "2025-08-11T04:21:12.537771Z"
    }
   },
   "outputs": [],
   "source": [
    "pipe_num = Pipeline([\n",
    "    ('imputer', SimpleImputer(strategy='mean')),\n",
    "    ('scaler', StandardScaler())\n",
    "])\n",
    "pipe_cat = Pipeline([\n",
    "    ('imputer', SimpleImputer(strategy='most_frequent')),\n",
    "    ('catboost', CatBoostEncoder(handle_unknown='ignore'))\n",
    "])\n",
    "\n",
    "preprocessor = ColumnTransformer([\n",
    "    ('numerical',pipe_num, num_cols),\n",
    "    ('categorical', pipe_cat, cat_cols)\n",
    "])\n",
    "\n",
    "pipeline = Pipeline(steps=[\n",
    "    ('preprocessing', preprocessor),\n",
    "    ('model', XGBClassifier(n_estimators=100,learning_rate=0.1,max_depth=3,random_state=42))\n",
    "])\n",
    "pipeline.fit(X_train, y_train)\n",
    "\n",
    "y_pred = pipeline.predict(X_test)"
   ]
  },
  {
   "cell_type": "code",
   "execution_count": 92,
   "id": "bb573f72-0b6c-43d6-98a7-a05d093724b3",
   "metadata": {
    "execution": {
     "iopub.execute_input": "2025-08-11T04:21:13.802786Z",
     "iopub.status.busy": "2025-08-11T04:21:13.802071Z",
     "iopub.status.idle": "2025-08-11T04:21:17.724256Z",
     "shell.execute_reply": "2025-08-11T04:21:17.723687Z",
     "shell.execute_reply.started": "2025-08-11T04:21:13.802758Z"
    }
   },
   "outputs": [
    {
     "name": "stdout",
     "output_type": "stream",
     "text": [
      "Accuracy scores: [0.49223058 0.47568922 0.50325815 0.52080201 0.50776942]\n",
      "Mean accuracy: 0.4999\n",
      "\n",
      "Precision scores: [0. 0. 0. 0. 0.]\n",
      "Mean precision: 0.0000\n",
      "\n",
      "Recall scores: [0. 0. 0. 0. 0.]\n",
      "Mean recall: 0.0000\n",
      "\n",
      "F1 scores: [0. 0. 0. 0. 0.]\n",
      "Mean f1: 0.0000\n",
      "\n",
      "Roc_auc scores: [0.5026549  0.49690829 0.46713097 0.48309648 0.50081125]\n",
      "Mean roc_auc: 0.4901\n",
      "\n"
     ]
    }
   ],
   "source": [
    "X = df.drop('target', axis=1)\n",
    "y = df['target']\n",
    "scoring = ['accuracy' , 'precision', 'recall' , 'f1', 'roc_auc']\n",
    "scoring = ['accuracy', 'precision', 'recall', 'f1', 'roc_auc']\n",
    "kf = KFold(n_splits=5, shuffle=True, random_state=42)\n",
    "cv_results = cross_validate(pipeline, X, y, cv=kf, scoring=scoring, return_train_score=False)\n",
    "for metric in scoring:\n",
    "    test_scores = cv_results[f'test_{metric}']\n",
    "    print(f\"{metric.capitalize()} scores: {test_scores}\")\n",
    "    print(f\"Mean {metric}: {test_scores.mean():.4f}\\n\")"
   ]
  },
  {
   "cell_type": "code",
   "execution_count": null,
   "id": "28831c03-cba1-4c5d-af13-eb0da6cc1b29",
   "metadata": {},
   "outputs": [],
   "source": [
    "import boto3\n",
    "bucket_name = 'dataminds-homework'\n",
    "s3_file_key = 'ravana-gurbanova-trainmodel.ipynb'            # e.g. 'folder/myfile.txt'\n",
    "local_file_path = 'multisim_dataset.parquet'        # Local destination\n",
    "\n",
    "# Create an S3 client (remove `bucket_name` here — not a valid argument for boto3.client)\n",
    "s3 = boto3.client(\n",
    "    's3',\n",
    "    region_name='us-east-1'\n",
    "    # aws_access_key_id='your_access_key',\n",
    "    # aws_secret_access_key='your_secret_key'\n",
    ")\n",
    "\n",
    "# Download the file\n",
    "try:\n",
    "    s3.download_file(bucket_name, s3_file_key, local_file_path)\n",
    "    print(f\"✅ File downloaded successfully from s3://{bucket_name}/{s3_file_key} to {local_file_path}\")\n",
    "except Exception as e:\n",
    "    print(\"❌ Error downloading file:\", e)"
   ]
  }
 ],
 "metadata": {
  "kernelspec": {
   "display_name": "Python 3 (ipykernel)",
   "language": "python",
   "name": "python3"
  },
  "language_info": {
   "codemirror_mode": {
    "name": "ipython",
    "version": 3
   },
   "file_extension": ".py",
   "mimetype": "text/x-python",
   "name": "python",
   "nbconvert_exporter": "python",
   "pygments_lexer": "ipython3",
   "version": "3.12.9"
  }
 },
 "nbformat": 4,
 "nbformat_minor": 5
}
